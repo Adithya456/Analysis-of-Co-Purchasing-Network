{
 "cells": [
  {
   "cell_type": "markdown",
   "id": "26dbd64e",
   "metadata": {},
   "source": [
    "# Network Analysis Group Report"
   ]
  },
  {
   "cell_type": "code",
   "execution_count": null,
   "id": "cc329ad2-1aa4-4eef-9219-88f3cfdb8d03",
   "metadata": {},
   "outputs": [],
   "source": [
    "#Importing libraries\n",
    "import pandas as pd\n",
    "import networkx as nx\n",
    "import matplotlib.pyplot as plt\n",
    "import pandas as pd\n",
    "import numpy as np\n",
    "import networkx.algorithms.community as nx_comm\n",
    "import matplotlib.colors as mcolors\n",
    "import statistics as st\n",
    "import cdlib\n",
    "from cdlib import algorithms, readwrite\n",
    "from IPython.core.interactiveshell import InteractiveShell\n",
    "InteractiveShell.ast_node_interactivity = 'all'"
   ]
  },
  {
   "cell_type": "markdown",
   "id": "0752a45c",
   "metadata": {},
   "source": [
    "## Cleaning Data"
   ]
  },
  {
   "cell_type": "code",
   "execution_count": null,
   "id": "85f68d49-3e6f-4ea6-9445-b37bb0d74b58",
   "metadata": {},
   "outputs": [],
   "source": [
    "#Loading dataframe into a variable\n",
    "df = pd.read_csv('com-amazon.ungraph.txt', header = None)"
   ]
  },
  {
   "cell_type": "code",
   "execution_count": null,
   "id": "7aaf7e2c-965e-4807-8224-14f60d5403e9",
   "metadata": {},
   "outputs": [],
   "source": [
    "df.head()"
   ]
  },
  {
   "cell_type": "code",
   "execution_count": null,
   "id": "1ae18c1d-a7e2-443a-a834-0a394d928e01",
   "metadata": {},
   "outputs": [],
   "source": [
    "#Ingoring first four rows of unwanted data\n",
    "df = df.iloc[4:]"
   ]
  },
  {
   "cell_type": "code",
   "execution_count": null,
   "id": "81cbf05f",
   "metadata": {},
   "outputs": [],
   "source": [
    "df.head()"
   ]
  },
  {
   "cell_type": "code",
   "execution_count": null,
   "id": "9b70cc66-c2d4-4380-8c5f-329452f0af04",
   "metadata": {},
   "outputs": [],
   "source": [
    "#Data Info\n",
    "df.info()"
   ]
  },
  {
   "cell_type": "code",
   "execution_count": null,
   "id": "2c9a1b43-3e43-4086-944d-4ba35589b25d",
   "metadata": {},
   "outputs": [],
   "source": [
    "#Splitting the data column into two separate columns i.e., Node1 and Node2\n",
    "df[[\"Node1\", \"Node2\"]] = df[0].str.split(\"\\t\", expand = True)"
   ]
  },
  {
   "cell_type": "code",
   "execution_count": null,
   "id": "9d657fd8",
   "metadata": {},
   "outputs": [],
   "source": [
    "df.head()"
   ]
  },
  {
   "cell_type": "code",
   "execution_count": null,
   "id": "2ce417a2-06cd-42f9-b75b-3742ca151ee3",
   "metadata": {},
   "outputs": [],
   "source": [
    "#Dropping the unwanted column\n",
    "df.drop(0,axis=1, inplace = True)"
   ]
  },
  {
   "cell_type": "code",
   "execution_count": null,
   "id": "ef256e25-7c4c-47e2-b1f0-4c0d406e00b9",
   "metadata": {},
   "outputs": [],
   "source": [
    "df.head()"
   ]
  },
  {
   "cell_type": "code",
   "execution_count": null,
   "id": "77bbc408-1a49-4fa4-a079-a6924076ed79",
   "metadata": {},
   "outputs": [],
   "source": [
    "#Writing the processed data to csv file\n",
    "df.to_csv(\"co_purchase_data.csv\", index = None)"
   ]
  },
  {
   "cell_type": "code",
   "execution_count": null,
   "id": "674fe378-5d24-44d3-bea9-cdfe838f4ab0",
   "metadata": {},
   "outputs": [],
   "source": [
    "#Reading data\n",
    "data = pd.read_csv(\"co_purchase_data.csv\")"
   ]
  },
  {
   "cell_type": "code",
   "execution_count": null,
   "id": "e6cad970-b503-4a43-b659-6e140d27f708",
   "metadata": {},
   "outputs": [],
   "source": [
    "data.head()"
   ]
  },
  {
   "cell_type": "code",
   "execution_count": null,
   "id": "476a3965-f2c4-4d7f-96c9-e2e17d0287a0",
   "metadata": {},
   "outputs": [],
   "source": [
    "#Shape\n",
    "data.shape"
   ]
  },
  {
   "cell_type": "code",
   "execution_count": null,
   "id": "28474616-0c6f-45f6-a4cc-e83f8fafb9c0",
   "metadata": {},
   "outputs": [],
   "source": [
    "#Subset of the dataset\n",
    "data_subset = data[:10000]"
   ]
  },
  {
   "cell_type": "code",
   "execution_count": null,
   "id": "71a017fa-8146-4af0-a341-c723190f2815",
   "metadata": {},
   "outputs": [],
   "source": [
    "#Shape\n",
    "print(\"Shape of chosen subset : \",data_subset.shape)"
   ]
  },
  {
   "cell_type": "code",
   "execution_count": null,
   "id": "3804fa33-21fc-4246-ad66-6159ba7a9ff1",
   "metadata": {},
   "outputs": [],
   "source": [
    "data_subset.head()"
   ]
  },
  {
   "cell_type": "code",
   "execution_count": null,
   "id": "acc7017b-0880-45c6-a177-4e38bc9b44f1",
   "metadata": {},
   "outputs": [],
   "source": [
    "#Writing subset to csv file\n",
    "data_subset.to_csv(\"co_purchased_data_subset_10000.csv\", index = None)"
   ]
  },
  {
   "cell_type": "markdown",
   "id": "2e9745ae",
   "metadata": {},
   "source": [
    "## Visualizing the Network"
   ]
  },
  {
   "cell_type": "code",
   "execution_count": null,
   "id": "81a4aa84-7258-456f-9730-96cacd787483",
   "metadata": {},
   "outputs": [],
   "source": [
    "#Reading subset data to variable\n",
    "data=pd.read_csv(\"co_purchased_data_subset_10000.csv\")"
   ]
  },
  {
   "cell_type": "code",
   "execution_count": null,
   "id": "1df9fbe7-4a95-4e88-be25-cf183e7124ee",
   "metadata": {},
   "outputs": [],
   "source": [
    "#Plotting graph\n",
    "plt.figure(figsize=(25,25))\n",
    "G1=nx.Graph()\n",
    "G1.add_edges_from([(row['Node1'],row['Node2']) for i,row in data.iterrows()])\n",
    "nx.draw(G1, with_labels = False, node_size = 25, node_color = 'Green', font_size = 10)"
   ]
  },
  {
   "cell_type": "markdown",
   "id": "8ad35cb0",
   "metadata": {},
   "source": [
    "# Analyzing the Network"
   ]
  },
  {
   "cell_type": "code",
   "execution_count": null,
   "id": "607d9331-b44f-4a65-b509-1d17231a3845",
   "metadata": {},
   "outputs": [],
   "source": [
    "#Nodes and Edges\n",
    "print(\"Number of Nodes in the network : \", G1.number_of_nodes())\n",
    "print(\"Number of Edges in the network : \", G1.number_of_edges())"
   ]
  },
  {
   "cell_type": "code",
   "execution_count": null,
   "id": "9282e2c8-56b7-462b-9950-e49662bdf43a",
   "metadata": {
    "scrolled": true
   },
   "outputs": [],
   "source": [
    "#List of nodes and edges\n",
    "print(\"List of Nodes : \",list(G1.nodes))"
   ]
  },
  {
   "cell_type": "code",
   "execution_count": null,
   "id": "ade60a27",
   "metadata": {},
   "outputs": [],
   "source": [
    "print(\"List of Edges : \",list(G1.edges))"
   ]
  },
  {
   "cell_type": "code",
   "execution_count": null,
   "id": "4d374336-a716-42d5-b14b-4ba9329cf067",
   "metadata": {},
   "outputs": [],
   "source": [
    "#Adjacency matrix\n",
    "Adj_mat = nx.adjacency_matrix(G1)\n",
    "print(\"ADJACENCY MATRIX (A) : \\n\\n\",Adj_mat.todense())"
   ]
  },
  {
   "cell_type": "code",
   "execution_count": null,
   "id": "04cd1a54-79fb-4564-b6b5-32051a736bb8",
   "metadata": {},
   "outputs": [],
   "source": [
    "#Adjacency matrix shape\n",
    "print(\"Shape of adjacency matrix : \",Adj_mat.shape)"
   ]
  },
  {
   "cell_type": "code",
   "execution_count": null,
   "id": "36b5fec6-2ed1-4454-99da-8ab4d9ac01ee",
   "metadata": {},
   "outputs": [],
   "source": [
    "#Checking if path exists\n",
    "nx.has_path(G1, 10, 80558)\n",
    "nx.has_path(G1, 500, 168895)"
   ]
  },
  {
   "cell_type": "code",
   "execution_count": null,
   "id": "d89839cf-6008-4907-8c57-72a436f4c968",
   "metadata": {},
   "outputs": [],
   "source": [
    "#Checking for the shortest paths from a given source node\n",
    "print(\"Shortest paths from source node 1 :\")\n",
    "nx.shortest_path(G1, source = 1)\n",
    "print(\"\\nShortest paths from source node 500 : \")\n",
    "nx.shortest_path(G1, source = 500)"
   ]
  },
  {
   "cell_type": "code",
   "execution_count": null,
   "id": "63a95bda-178c-43fe-8924-6244cddab7ff",
   "metadata": {},
   "outputs": [],
   "source": [
    "#Checking for the shortest paths to a given target node\n",
    "print(\"Shortest paths to target node 94156 : \")\n",
    "nx.shortest_path(G1, target = 94156)\n",
    "print(\"\\nShortest paths to target node 447165 : \")\n",
    "nx.shortest_path(G1, target = 447165)"
   ]
  },
  {
   "cell_type": "code",
   "execution_count": null,
   "id": "94b03b18-7e9e-471d-82c3-7d3b334ea50e",
   "metadata": {
    "scrolled": true
   },
   "outputs": [],
   "source": [
    "#Shortest paths for each node\n",
    "print(\"Shortest paths for each node in the network : \")\n",
    "nx.shortest_path(G1)"
   ]
  },
  {
   "cell_type": "code",
   "execution_count": null,
   "id": "0ea577ad-fba4-4fa2-9a9a-61a655bcddd1",
   "metadata": {
    "scrolled": true
   },
   "outputs": [],
   "source": [
    "#Length of the shortest paths for each node\n",
    "print(\"Length of the shortest paths for each node : \")\n",
    "dict(nx.shortest_path_length(G1))"
   ]
  },
  {
   "cell_type": "code",
   "execution_count": null,
   "id": "009f9068-b659-4990-a74f-527fa2efe5d5",
   "metadata": {},
   "outputs": [],
   "source": [
    "#Checking if the network is connected\n",
    "print(nx.is_connected(G1))"
   ]
  },
  {
   "cell_type": "code",
   "execution_count": null,
   "id": "76372eb2",
   "metadata": {},
   "outputs": [],
   "source": [
    "#Checking if the network is planar network\n",
    "print(nx.check_planarity(G1)[0])"
   ]
  },
  {
   "cell_type": "code",
   "execution_count": null,
   "id": "efe9ccca-1d65-4de7-b501-09478f4b4188",
   "metadata": {},
   "outputs": [],
   "source": [
    "#Finding number of connected components in the network\n",
    "print(\"Number of components in the network : \",nx.number_connected_components(G1))"
   ]
  },
  {
   "cell_type": "code",
   "execution_count": null,
   "id": "6761cede-8048-4eea-a07e-38e6452d4fa1",
   "metadata": {},
   "outputs": [],
   "source": [
    "#Density of the network\n",
    "print(\"Density of the network : \",nx.density(G1))"
   ]
  },
  {
   "cell_type": "code",
   "execution_count": null,
   "id": "be813a10-f87f-4c85-bbd9-116e128be4f4",
   "metadata": {},
   "outputs": [],
   "source": [
    "#Degree of each node in the network\n",
    "d1 = G1.degree()\n",
    "print(\"Degree of each node in the network : \\n\",d1)"
   ]
  },
  {
   "cell_type": "code",
   "execution_count": null,
   "id": "5f9c1552-ec4b-43b3-aeaa-e7dd97a4a1ba",
   "metadata": {},
   "outputs": [],
   "source": [
    "#Mean degree of the network\n",
    "n1=len(list(G1.edges))\n",
    "mean_degree = sum(dict(d1).values())/n1\n",
    "print(\"Mean Degree of the network : \",mean_degree)"
   ]
  },
  {
   "cell_type": "code",
   "execution_count": null,
   "id": "2624f1d0-7aad-48a3-b052-2b935dfd3628",
   "metadata": {
    "scrolled": true
   },
   "outputs": [],
   "source": [
    "#Finding the unique degree values and its count\n",
    "degree_sequence_G1=sorted([d for n, d in G1.degree()], reverse=True)\n",
    "degree_unique_G1=np.unique(degree_sequence_G1, return_counts=True)\n",
    "print(\"Unique degree values and its count : \\n\",degree_unique_G1)"
   ]
  },
  {
   "cell_type": "code",
   "execution_count": null,
   "id": "ed77305b-5c88-46dd-814e-fbc101255df3",
   "metadata": {
    "scrolled": true
   },
   "outputs": [],
   "source": [
    "#Plotting degree frequency distribution\n",
    "degree_plot=list(range(0, max(degree_unique_G1[0])+1))\n",
    "freq_plot=[0] * len(list(range(0, max(degree_unique_G1[0])+1)))\n",
    "for i in degree_unique_G1[0]:\n",
    "    freq_plot[i]=degree_unique_G1[-1][list(degree_unique_G1[0]).index(i)]\n",
    "    \n",
    "d = {'degree': degree_plot, \n",
    "     'frequency': freq_plot}\n",
    "df_G1 = pd.DataFrame(data=d)\n",
    "\n",
    "fig, axes = plt.subplots(figsize=(35,10),nrows=1, ncols=1)\n",
    "\n",
    "df_G1.plot.bar(x='degree', y='frequency', ax=axes)\n",
    "axes.title.set_text(\"Degree distriution of G1\")"
   ]
  },
  {
   "cell_type": "code",
   "execution_count": null,
   "id": "e92c9800-f3ef-4e7b-92d3-375a6c279bfd",
   "metadata": {},
   "outputs": [],
   "source": [
    "#Closeness centrality of the network\n",
    "print(\"Closeness Centrality : \")\n",
    "nx.closeness_centrality(G1)"
   ]
  },
  {
   "cell_type": "code",
   "execution_count": null,
   "id": "ce3ef9d8-e074-4641-bd3d-e784e3bc1abe",
   "metadata": {},
   "outputs": [],
   "source": [
    "#Betweenness Centrality of the network\n",
    "print(\"Betweenness Centrality : \")\n",
    "nx.betweenness_centrality(G1)"
   ]
  },
  {
   "cell_type": "code",
   "execution_count": null,
   "id": "7bee293a-8d45-42cf-b43a-6234bb921bcf",
   "metadata": {},
   "outputs": [],
   "source": [
    "#Enumerate all cliques\n",
    "enumerate_cliques = list(nx.enumerate_all_cliques(G1))\n",
    "enumerate_cliques"
   ]
  },
  {
   "cell_type": "code",
   "execution_count": null,
   "id": "6417acb6-db0f-4d1f-88f5-ae4fde9728ff",
   "metadata": {},
   "outputs": [],
   "source": [
    "#Finding Cliques\n",
    "print(\"Number of cliques : \",len(list(nx.find_cliques(G1))))\n",
    "Cliques=list(nx.find_cliques(G1))\n",
    "print(\"Cliques in network : \",Cliques)"
   ]
  },
  {
   "cell_type": "code",
   "execution_count": null,
   "id": "60d0c6e3-b7de-46fa-8f82-ba89517b7ce5",
   "metadata": {},
   "outputs": [],
   "source": [
    "#Finding code number of each node in the network\n",
    "print(\"Core number of each node : \")\n",
    "nx.core_number(G1)"
   ]
  },
  {
   "cell_type": "code",
   "execution_count": null,
   "id": "d5a78a75-8850-4343-895a-8dabc6686efc",
   "metadata": {},
   "outputs": [],
   "source": [
    "#Nodes in the Main Core of the network\n",
    "print(\"Nodes in the main core : \",list(nx.k_core(G1)))"
   ]
  },
  {
   "cell_type": "code",
   "execution_count": null,
   "id": "492137df-ce7a-4510-9928-775630b9dc24",
   "metadata": {},
   "outputs": [],
   "source": [
    "#Main component and Nodes in the main component\n",
    "k_comp = nx.k_components(G1)\n",
    "k_comp_dict = dict(k_comp)\n",
    "print(\"Main component : \",max(k_comp_dict))\n",
    "print(\"Nodes in main component : \",max(k_comp_dict.values()))"
   ]
  },
  {
   "cell_type": "code",
   "execution_count": null,
   "id": "c60de741",
   "metadata": {},
   "outputs": [],
   "source": [
    "#Average Clustering Coefficient\n",
    "cluster_coef=nx.clustering(G1, nodes = None, weight = None)\n",
    "print(\"Average clustering coefficient : \",st.mean(cluster_coef.values()))"
   ]
  },
  {
   "cell_type": "markdown",
   "id": "17f7a0f3",
   "metadata": {},
   "source": [
    "## Finding communities using networkx community algorithm"
   ]
  },
  {
   "cell_type": "code",
   "execution_count": null,
   "id": "40fb69f5",
   "metadata": {},
   "outputs": [],
   "source": [
    "#Modularity of the network\n",
    "communities = list(nx_comm.greedy_modularity_communities(G1))\n",
    "max_modularity=nx_comm.modularity(G1,communities)\n",
    "print(\"Number of communities in the network: \",len(communities))\n",
    "print(\"Modularity of the network : \",max_modularity)"
   ]
  },
  {
   "cell_type": "code",
   "execution_count": null,
   "id": "de112a12-6157-4556-b43e-0812c09748ce",
   "metadata": {},
   "outputs": [],
   "source": [
    "#Finding node list and edge list considering each community as one node\n",
    "neighbors=[]\n",
    "for i in range(0,len(communities)):\n",
    "    neighbors.append(set())\n",
    "    \n",
    "for i in range(0, len(communities)):\n",
    "    for j in range(0, len(communities[i])):\n",
    "        neighbors[i]=neighbors[i].union(set(G1.neighbors(list(communities[i])[j])))\n",
    "\n",
    "\n",
    "Indicator=[]\n",
    "for i in range(0,len(communities)):\n",
    "    Indicator.append([])\n",
    "    \n",
    "for i in range(0, len(communities)):\n",
    "    for j in range(0, len(communities)):\n",
    "        Indicator[i].append(len(neighbors[i].intersection(communities[j])))\n",
    "\n",
    "\n",
    "nodeslist=list(range(0,len(communities)))\n",
    "edgeslist=[]\n",
    "for i in range(0,len(communities)):\n",
    "    for j in range(i+1,len(communities)):\n",
    "        if Indicator[i][j]!=0:\n",
    "            edgeslist.append((i,j))         "
   ]
  },
  {
   "cell_type": "code",
   "execution_count": null,
   "id": "b3d4ce8f-4a94-4600-92e4-b9a4cead12cc",
   "metadata": {},
   "outputs": [],
   "source": [
    "#Plotting communities graph\n",
    "G2=nx.Graph()\n",
    "G2.add_nodes_from(nodeslist)\n",
    "G2.add_edges_from(edgeslist)\n",
    "\n",
    "figure = plt.gcf()\n",
    "nx.draw(G2, with_labels=True, node_color = '#32A891',node_size=350, font_weight='bold')\n",
    "figure.set_size_inches(40, 40)"
   ]
  },
  {
   "cell_type": "markdown",
   "id": "50450764",
   "metadata": {},
   "source": [
    "## Girvan-Newman algorithm to detect communities"
   ]
  },
  {
   "cell_type": "code",
   "execution_count": null,
   "id": "06319bc3",
   "metadata": {},
   "outputs": [],
   "source": [
    "#Girvan-Newman Algorithm\n",
    "partition=nx_comm.girvan_newman(G1)"
   ]
  },
  {
   "cell_type": "code",
   "execution_count": null,
   "id": "2d80bad8",
   "metadata": {},
   "outputs": [],
   "source": [
    "#Printing out communites and its length\n",
    "length_of_communities=0\n",
    "for i in partition:\n",
    "    length_of_communities=length_of_communities+1\n",
    "print(length_of_communities)\n",
    "    "
   ]
  },
  {
   "cell_type": "markdown",
   "id": "c35c0003",
   "metadata": {},
   "source": [
    "## InfoMap Algorithm to detect communities"
   ]
  },
  {
   "cell_type": "code",
   "execution_count": null,
   "id": "d33ea199",
   "metadata": {},
   "outputs": [],
   "source": [
    "#InfoMap Algorithm\n",
    "coms = algorithms.infomap(G1)\n",
    "#Writing to csv\n",
    "readwrite.write_community_csv(coms, path=\"coms.csv\")"
   ]
  },
  {
   "cell_type": "code",
   "execution_count": null,
   "id": "12b4be25",
   "metadata": {},
   "outputs": [],
   "source": [
    "#Reading the communities data to variable\n",
    "coms_df=pd.read_csv(\"coms.csv\", header=None)\n",
    "coms_df"
   ]
  },
  {
   "cell_type": "markdown",
   "id": "53a46135",
   "metadata": {},
   "source": [
    "## Visualizing Communities"
   ]
  },
  {
   "cell_type": "code",
   "execution_count": null,
   "id": "e4f3cd5e",
   "metadata": {},
   "outputs": [],
   "source": [
    "community_nodes1 = {2215,223703,413504,540136}\n",
    "\n",
    "community_nodes2 = \n",
    "\n",
    "# {673, 1457, 1476, 2229, 2492, 3237, 4596, 18489, 25769, 43132, 46910, 48954, 61562, 65912, 80630,\n",
    "#                    90707, 99110, 99366, 101152, 102047, 102541, 102544, 114017, 118741, 123959, 125365, 131706, 132938,\n",
    "#                    136011, 139245, 141445, 142654, 145550, 148243, 149529, 149806, 156902, 167634, 178113, 179435, 179896,\n",
    "#                    181892, 184678, 188041, 195711, 200015, 200740, 206060, 209890, 214516, 220266, 220371, 221758, 221810,\n",
    "#                    225879, 234108, 244470, 244877, 248495, 254401, 276692, 276751, 279859, 280431, 294844, 320219, 324873,\n",
    "#                    334239, 336977, 342906, 353653, 355473, 359473, 359758, 374219, 375146, 382287, 384396, 389377, 390909,\n",
    "#                    393252, 404870, 414868, 416882, 436846, 438623, 438726, 444083, 450006, 452164, 462824, 468285, 479212,\n",
    "#                    480692, 482469, 494913, 501444, 502784, 508812, 509779, 513668, 514735, 522958, 532299, 539923}\n",
    "\n",
    "# Initialize a list to store edges in the community\n",
    "community_edges1 = []\n",
    "community_edges2 = []\n",
    "\n",
    "# Iterate through all edges in the network\n",
    "for u, v in G1.edges():\n",
    "    # Check if both endpoints belong to the community\n",
    "    if u in community_nodes1 and v in community_nodes1:\n",
    "        # Add the edge to the list of edges in the community\n",
    "        community_edges1.append((u, v))\n",
    "\n",
    "        \n",
    "# Iterate through all edges in the network\n",
    "for u, v in G1.edges():\n",
    "    # Check if both endpoints belong to the community\n",
    "    if u in community_nodes2 and v in community_nodes2:\n",
    "        # Add the edge to the list of edges in the community\n",
    "        community_edges2.append((u, v))\n",
    "\n",
    "        \n",
    "# Print the edges present in the community\n",
    "print(\"Edges present in the community 1:\", community_edges1)\n",
    "print(\"\\nEdges present in the community 2:\", community_edges2)"
   ]
  },
  {
   "cell_type": "code",
   "execution_count": null,
   "id": "faa011bf",
   "metadata": {},
   "outputs": [],
   "source": [
    "#Plotting graph of a community\n",
    "G3=nx.Graph()\n",
    "G3.add_edges_from(community_edges1)\n",
    "\n",
    "figure = plt.gcf()\n",
    "nx.draw(G3, with_labels=True, node_color = ['skyblue','cyan','magenta','peachpuff'],node_size=3000, font_weight='bold')"
   ]
  },
  {
   "cell_type": "code",
   "execution_count": null,
   "id": "01e88a9a",
   "metadata": {
    "scrolled": true
   },
   "outputs": [],
   "source": [
    "#Plotting graph of a community\n",
    "G4=nx.Graph()\n",
    "G4.add_edges_from(community_edges2)\n",
    "\n",
    "figure = plt.gcf()\n",
    "nx.draw(G4, with_labels=False, node_color = '#32A891',node_size=50, font_weight='bold')\n",
    "#figure.set_size_inches(40, 40)"
   ]
  },
  {
   "cell_type": "code",
   "execution_count": null,
   "id": "52469515",
   "metadata": {},
   "outputs": [],
   "source": []
  }
 ],
 "metadata": {
  "kernelspec": {
   "display_name": "Python 3 (ipykernel)",
   "language": "python",
   "name": "python3"
  },
  "language_info": {
   "codemirror_mode": {
    "name": "ipython",
    "version": 3
   },
   "file_extension": ".py",
   "mimetype": "text/x-python",
   "name": "python",
   "nbconvert_exporter": "python",
   "pygments_lexer": "ipython3",
   "version": "3.11.5"
  }
 },
 "nbformat": 4,
 "nbformat_minor": 5
}
